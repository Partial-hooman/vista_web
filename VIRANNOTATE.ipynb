{
  "cells": [
    {
      "cell_type": "markdown",
      "metadata": {
        "id": "view-in-github",
        "colab_type": "text"
      },
      "source": [
        "<a href=\"https://colab.research.google.com/github/Partial-hooman/vista_web/blob/main/VIRANNOTATE.ipynb\" target=\"_parent\"><img src=\"https://colab.research.google.com/assets/colab-badge.svg\" alt=\"Open In Colab\"/></a>"
      ]
    },
    {
      "cell_type": "code",
      "execution_count": null,
      "metadata": {
        "id": "qRRsn6CMJ55f",
        "cellView": "form"
      },
      "outputs": [],
      "source": [
        "#@title VISTA-WEB-SERVER\n",
        "!pip install biopython\n",
        "!pip install Squiggle"
      ]
    },
    {
      "cell_type": "code",
      "source": [
        "from Bio import SeqIO\n",
        "from itertools import combinations\n",
        "import pandas as pd\n",
        "\n",
        "\n",
        "file_name = \"output.fasta\" #@param {type:'string'}\n",
        "\n",
        "\n",
        "\n",
        "def score(sequence1, sequence2):\n",
        "    a = 0\n",
        "    for pos in range(0, min(len(sequence1), len(sequence2))):\n",
        "        if sequence1[pos] == sequence2[pos]:\n",
        "            a += 2\n",
        "        if sequence1[pos] != sequence2[pos]:\n",
        "            a += -1\n",
        "        if sequence1[pos] == sequence2[pos] == '-':\n",
        "            a += -2\n",
        "    return a\n",
        "\n",
        "\n",
        "\n",
        "\n",
        "\n",
        "\n",
        "\n",
        "\n",
        "\n",
        "\n",
        "\n",
        "\n",
        "\n",
        "\n",
        "\n",
        "\n",
        "\n",
        "\n",
        "viromes = []\n",
        "\n",
        "\n",
        "for sequence in SeqIO.parse('/content/drive/MyDrive/' + file_name, \"fasta\"):\n",
        "    viromes.append(sequence.seq)\n",
        "\n",
        "\n",
        "genomes = []\n",
        "\n",
        "for x in range(len(viromes)):\n",
        "    genomes.append(\"genome_\"+str(x))\n",
        "\n",
        "\n",
        "scores = []\n",
        "\n",
        "for seq in viromes:\n",
        "    scores.append(score(viromes[0],seq))\n",
        "\n",
        "#for genome in range(len(genomes)-1):\n",
        "    #f = open(\"output.txt\", \"a\")\n",
        "    #f.write('\\n'+genomes[genome] +':'+str(scores[genome]))\n",
        "    #f.close()\n",
        "\n",
        "\n",
        "\n",
        "\n",
        "\n",
        "raw_data = {\"genomes\":genomes, 'scores':scores} \n",
        "\n",
        "df = pd.DataFrame(raw_data, columns = ['genomes','scores'])\n",
        "\n",
        "display(df)\n",
        "\n",
        "\n",
        "\n",
        "\n",
        "\n"
      ],
      "metadata": {
        "id": "KRQfzi2ke6cx",
        "cellView": "form"
      },
      "execution_count": null,
      "outputs": []
    },
    {
      "cell_type": "code",
      "source": [
        "GENOME = \"genome_12\" #@param {type:'string'}\n",
        "\n",
        "translated = viromes[genomes.index(GENOME)].translate()\n",
        "Proteins = translated.split('*')\n",
        "\n",
        "prot_len_list = []\n",
        "\n",
        "for prot in Proteins:\n",
        "    prot_len_list.append(len(prot))\n",
        "\n",
        "raw_dat = {'proteins':Proteins, \"protein_length\":prot_len_list}\n",
        "\n",
        "datafr = pd.DataFrame(raw_dat, columns=['proteins','protein_length'])\n",
        "\n",
        "display(datafr)"
      ],
      "metadata": {
        "cellView": "form",
        "id": "-ZnFfnFMcw7y"
      },
      "execution_count": null,
      "outputs": []
    }
  ],
  "metadata": {
    "colab": {
      "provenance": [],
      "toc_visible": true,
      "mount_file_id": "1XFlTV6KfpaCGW8wDp_g5ELEp1leYi5zp",
      "authorship_tag": "ABX9TyMyp0HYBNSFFeDW+z1mRbRu",
      "include_colab_link": true
    },
    "kernelspec": {
      "display_name": "Python 3",
      "name": "python3"
    },
    "language_info": {
      "name": "python"
    }
  },
  "nbformat": 4,
  "nbformat_minor": 0
}